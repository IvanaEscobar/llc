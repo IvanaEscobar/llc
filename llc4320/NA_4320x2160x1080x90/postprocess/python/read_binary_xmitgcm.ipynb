{
 "cells": [
  {
   "cell_type": "code",
   "execution_count": 1,
   "metadata": {},
   "outputs": [],
   "source": [
    "import sys\n",
    "community_python_dir = '/work/projects/aci/ECCO/community/python'\n",
    "sys.path.append('%s/ECCOv4-py' % community_python_dir)\n",
    "sys.path.append('%s/ECCOv4-py/ecco_v4_py' % community_python_dir)\n",
    "sys.path.append('%s/xgcm' % community_python_dir)\n",
    "sys.path.append('%s/xmitgcm' % community_python_dir)\n",
    "sys.path.append('%s/MITgcmutils' % community_python_dir)\n",
    "# # Had to install a 'few' packages before getting Rafaels library to cooperate\n",
    "# gcm_recipes_dir = '/home1/05427/iescobar/install_to_local'\n",
    "# sys.path.append('%s/esmf/src/addon/ESMPy/lib/python2.7/site-packages' % gcm_recipes_dir)\n",
    "# sys.path.append('%s/xESMF' %gcm_recipes_dir)\n",
    "# # sys.path.append('%s/gridfill' % gcm_recipes_dir)\n",
    "# sys.path.append('%s/gridfill/lib/python2.7/site-packages/gridfill-1.0.dev2-py2.7-linux-x86_64.egg' % gcm_recipes_dir)\n",
    "# sys.path.append('%s/MITgcm-recipes' % gcm_recipes_dir)"
   ]
  },
  {
   "cell_type": "code",
   "execution_count": 2,
   "metadata": {},
   "outputs": [
    {
     "name": "stderr",
     "output_type": "stream",
     "text": [
      "/opt/conda/lib/python3.6/site-packages/dask/config.py:168: YAMLLoadWarning: calling yaml.load() without Loader=... is deprecated, as the default Loader is unsafe. Please read https://msg.pyyaml.org/load for full details.\n",
      "  data = yaml.load(f.read()) or {}\n"
     ]
    }
   ],
   "source": [
    "import numpy as np\n",
    "from matplotlib import cm\n",
    "import cartopy as cart\n",
    "import xmitgcm\n",
    "# import MITgcm_recipes"
   ]
  },
  {
   "cell_type": "code",
   "execution_count": 3,
   "metadata": {},
   "outputs": [],
   "source": [
    "# NA grid information\n",
    "# we need extra metadata for xmitgcm to figure it out\n",
    "namd = {'has_faces': True,\n",
    " 'ny': 2160,\n",
    " 'nx': 4320,\n",
    " 'ny_facets': [1080, 0, 0, 0, 2160], #nfy?\n",
    " 'pad_before_y': [90, 0, 0, 0, 0], #not sure what these are for\n",
    " 'pad_after_y': [0, 0, 0, 90, 90],\n",
    " 'face_facets': [0, 0, 2, 3, 4, 4],\n",
    " 'facet_orders': ['C', 'C', 'C', 'F', 'F'],\n",
    " 'face_offsets': [0, 1, 0, 0, 0, 1],\n",
    " 'transpose_face': [False, False, False, True, True, True]}"
   ]
  },
  {
   "cell_type": "code",
   "execution_count": 4,
   "metadata": {},
   "outputs": [],
   "source": [
    "naDir='/scratch/05427/iescobar/llc/llc4320/NA_4320x2160x1080x90/run_c67h_pk0000000001'\n",
    "gridDir=f'{naDir}/GRID'\n",
    "dataDir=f'{naDir}/diags/TRSP'"
   ]
  },
  {
   "cell_type": "code",
   "execution_count": 5,
   "metadata": {},
   "outputs": [
    {
     "name": "stdout",
     "output_type": "stream",
     "text": [
      "3\n"
     ]
    },
    {
     "ename": "TypeError",
     "evalue": "object of type 'int' has no len()",
     "output_type": "error",
     "traceback": [
      "\u001b[0;31m---------------------------------------------------------------------------\u001b[0m",
      "\u001b[0;31mTypeError\u001b[0m                                 Traceback (most recent call last)",
      "\u001b[0;32m/work/projects/aci/ECCO/community/python/xmitgcm/xmitgcm/mds_store.py\u001b[0m in \u001b[0;36mopen_mdsdataset\u001b[0;34m(data_dir, grid_dir, iters, prefix, read_grid, delta_t, ref_date, calendar, geometry, grid_vars_to_coords, swap_dims, endian, chunks, ignore_unknown_vars, default_dtype, nx, ny, nz, llc_method, extra_metadata)\u001b[0m\n\u001b[1;32m    168\u001b[0m         \u001b[0;32mtry\u001b[0m\u001b[0;34m:\u001b[0m\u001b[0;34m\u001b[0m\u001b[0m\n\u001b[0;32m--> 169\u001b[0;31m             \u001b[0miternum\u001b[0m \u001b[0;34m=\u001b[0m \u001b[0mint\u001b[0m\u001b[0;34m(\u001b[0m\u001b[0miters\u001b[0m\u001b[0;34m)\u001b[0m\u001b[0;34m\u001b[0m\u001b[0m\n\u001b[0m\u001b[1;32m    170\u001b[0m         \u001b[0;31m# if not we probably have some kind of list\u001b[0m\u001b[0;34m\u001b[0m\u001b[0;34m\u001b[0m\u001b[0m\n",
      "\u001b[0;31mTypeError\u001b[0m: int() argument must be a string, a bytes-like object or a number, not 'list'",
      "\nDuring handling of the above exception, another exception occurred:\n",
      "\u001b[0;31mTypeError\u001b[0m                                 Traceback (most recent call last)",
      "\u001b[0;32m<ipython-input-5-6b99bbd9d6f2>\u001b[0m in \u001b[0;36m<module>\u001b[0;34m\u001b[0m\n\u001b[1;32m      2\u001b[0m                                   \u001b[0mgeometry\u001b[0m\u001b[0;34m=\u001b[0m\u001b[0;34m'llc'\u001b[0m\u001b[0;34m,\u001b[0m\u001b[0mnx\u001b[0m\u001b[0;34m=\u001b[0m\u001b[0;36m4320\u001b[0m\u001b[0;34m,\u001b[0m\u001b[0mread_grid\u001b[0m\u001b[0;34m=\u001b[0m\u001b[0;32mTrue\u001b[0m\u001b[0;34m,\u001b[0m\u001b[0;34m\u001b[0m\u001b[0m\n\u001b[1;32m      3\u001b[0m                                   \u001b[0mgrid_dir\u001b[0m\u001b[0;34m=\u001b[0m\u001b[0mgridDir\u001b[0m\u001b[0;34m,\u001b[0m\u001b[0mextra_metadata\u001b[0m\u001b[0;34m=\u001b[0m\u001b[0mnamd\u001b[0m\u001b[0;34m,\u001b[0m\u001b[0;34m\u001b[0m\u001b[0m\n\u001b[0;32m----> 4\u001b[0;31m                                   delta_t=90, ref_date='2002-1-1 0:0:0')\n\u001b[0m",
      "\u001b[0;32m/work/projects/aci/ECCO/community/python/xmitgcm/xmitgcm/mds_store.py\u001b[0m in \u001b[0;36mopen_mdsdataset\u001b[0;34m(data_dir, grid_dir, iters, prefix, read_grid, delta_t, ref_date, calendar, geometry, grid_vars_to_coords, swap_dims, endian, chunks, ignore_unknown_vars, default_dtype, nx, ny, nz, llc_method, extra_metadata)\u001b[0m\n\u001b[1;32m    205\u001b[0m                 datasets = [open_mdsdataset(\n\u001b[1;32m    206\u001b[0m                         data_dir, iters=iternum, read_grid=False, **kwargs)\n\u001b[0;32m--> 207\u001b[0;31m                     for iternum in iters]\n\u001b[0m\u001b[1;32m    208\u001b[0m                 \u001b[0;31m# now add the grid\u001b[0m\u001b[0;34m\u001b[0m\u001b[0;34m\u001b[0m\u001b[0m\n\u001b[1;32m    209\u001b[0m                 \u001b[0;32mif\u001b[0m \u001b[0mread_grid\u001b[0m\u001b[0;34m:\u001b[0m\u001b[0;34m\u001b[0m\u001b[0m\n",
      "\u001b[0;32m/work/projects/aci/ECCO/community/python/xmitgcm/xmitgcm/mds_store.py\u001b[0m in \u001b[0;36m<listcomp>\u001b[0;34m(.0)\u001b[0m\n\u001b[1;32m    205\u001b[0m                 datasets = [open_mdsdataset(\n\u001b[1;32m    206\u001b[0m                         data_dir, iters=iternum, read_grid=False, **kwargs)\n\u001b[0;32m--> 207\u001b[0;31m                     for iternum in iters]\n\u001b[0m\u001b[1;32m    208\u001b[0m                 \u001b[0;31m# now add the grid\u001b[0m\u001b[0;34m\u001b[0m\u001b[0;34m\u001b[0m\u001b[0m\n\u001b[1;32m    209\u001b[0m                 \u001b[0;32mif\u001b[0m \u001b[0mread_grid\u001b[0m\u001b[0;34m:\u001b[0m\u001b[0;34m\u001b[0m\u001b[0m\n",
      "\u001b[0;32m/work/projects/aci/ECCO/community/python/xmitgcm/xmitgcm/mds_store.py\u001b[0m in \u001b[0;36mopen_mdsdataset\u001b[0;34m(data_dir, grid_dir, iters, prefix, read_grid, delta_t, ref_date, calendar, geometry, grid_vars_to_coords, swap_dims, endian, chunks, ignore_unknown_vars, default_dtype, nx, ny, nz, llc_method, extra_metadata)\u001b[0m\n\u001b[1;32m    160\u001b[0m     \u001b[0;31m# We either have a single iter, in which case we create a fresh store,\u001b[0m\u001b[0;34m\u001b[0m\u001b[0;34m\u001b[0m\u001b[0m\n\u001b[1;32m    161\u001b[0m     \u001b[0;31m# or a list of iters, in which case we combine.\u001b[0m\u001b[0;34m\u001b[0m\u001b[0;34m\u001b[0m\u001b[0m\n\u001b[0;32m--> 162\u001b[0;31m     \u001b[0mprint\u001b[0m\u001b[0;34m(\u001b[0m\u001b[0mlen\u001b[0m\u001b[0;34m(\u001b[0m\u001b[0miters\u001b[0m\u001b[0;34m)\u001b[0m\u001b[0;34m)\u001b[0m\u001b[0;34m\u001b[0m\u001b[0m\n\u001b[0m\u001b[1;32m    163\u001b[0m     \u001b[0;32mif\u001b[0m \u001b[0miters\u001b[0m \u001b[0;34m==\u001b[0m \u001b[0;34m'all'\u001b[0m\u001b[0;34m:\u001b[0m\u001b[0;34m\u001b[0m\u001b[0m\n\u001b[1;32m    164\u001b[0m         \u001b[0miters\u001b[0m \u001b[0;34m=\u001b[0m \u001b[0m_get_all_iternums\u001b[0m\u001b[0;34m(\u001b[0m\u001b[0mdata_dir\u001b[0m\u001b[0;34m,\u001b[0m \u001b[0mfile_prefixes\u001b[0m\u001b[0;34m=\u001b[0m\u001b[0mprefix\u001b[0m\u001b[0;34m)\u001b[0m\u001b[0;34m\u001b[0m\u001b[0m\n",
      "\u001b[0;31mTypeError\u001b[0m: object of type 'int' has no len()"
     ]
    }
   ],
   "source": [
    "ds_aste = xmitgcm.open_mdsdataset(dataDir, prefix=['trsp_3d_hourly'],\n",
    "                                  geometry='llc',nx=4320,read_grid=True,\n",
    "                                  grid_dir=gridDir,extra_metadata=namd, \n",
    "                                  delta_t=90, ref_date='2002-1-1 0:0:0')"
   ]
  },
  {
   "cell_type": "code",
   "execution_count": 26,
   "metadata": {},
   "outputs": [
    {
     "data": {
      "text/plain": [
       "{'has_faces': True,\n",
       " 'ny': 1350,\n",
       " 'nx': 270,\n",
       " 'ny_facets': [450, 0, 270, 180, 450],\n",
       " 'pad_before_y': [90, 0, 0, 0, 0],\n",
       " 'pad_after_y': [0, 0, 0, 90, 90],\n",
       " 'face_facets': [0, 0, 2, 3, 4, 4],\n",
       " 'facet_orders': ['C', 'C', 'C', 'F', 'F'],\n",
       " 'face_offsets': [0, 1, 0, 0, 0, 1],\n",
       " 'transpose_face': [False, False, False, True, True, True]}"
      ]
     },
     "execution_count": 26,
     "metadata": {},
     "output_type": "execute_result"
    }
   ],
   "source": [
    "astemd = xmitgcm.utils.get_extra_metadata(domain='aste', nx=270)\n",
    "astemd"
   ]
  },
  {
   "cell_type": "code",
   "execution_count": null,
   "metadata": {},
   "outputs": [],
   "source": []
  }
 ],
 "metadata": {
  "kernelspec": {
   "display_name": "Python 3",
   "language": "python",
   "name": "python3"
  },
  "language_info": {
   "codemirror_mode": {
    "name": "ipython",
    "version": 3
   },
   "file_extension": ".py",
   "mimetype": "text/x-python",
   "name": "python",
   "nbconvert_exporter": "python",
   "pygments_lexer": "ipython3",
   "version": "3.6.6"
  }
 },
 "nbformat": 4,
 "nbformat_minor": 2
}
